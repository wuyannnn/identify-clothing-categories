{
 "cells": [
  {
   "cell_type": "code",
   "execution_count": 1,
   "metadata": {},
   "outputs": [],
   "source": [
    "import helper\n",
    "import time\n",
    "\n",
    "import torch\n",
    "import torch.nn as nn\n",
    "import torch.nn.functional as F\n",
    "from torchvision import models, datasets, transforms\n",
    "from torch import optim\n",
    "\n",
    "import numpy as np\n",
    "import matplotlib.pyplot as plt"
   ]
  },
  {
   "cell_type": "code",
   "execution_count": 2,
   "metadata": {},
   "outputs": [],
   "source": [
    "transform = transforms.Compose([transforms.ToTensor(),\n",
    "                                transforms.Normalize((0.5, 0.5, 0.5), (0.5, 0.5, 0.5))])\n",
    "trainset = datasets.FashionMNIST('f_mnist/',download = False,train = True,transform = transform)\n",
    "testset = datasets.FashionMNIST('f_mnist/',download = False, train = False, transform = transform)"
   ]
  },
  {
   "cell_type": "code",
   "execution_count": 3,
   "metadata": {},
   "outputs": [
    {
     "name": "stdout",
     "output_type": "stream",
     "text": [
      "60000\n",
      "10000\n"
     ]
    }
   ],
   "source": [
    "print(len(trainset))\n",
    "print(len(testset))"
   ]
  },
  {
   "cell_type": "code",
   "execution_count": 4,
   "metadata": {},
   "outputs": [],
   "source": [
    "trainloader = torch.utils.data.DataLoader(trainset,batch_size = 100,shuffle = True)\n",
    "testloader = torch.utils.data.DataLoader(testset,batch_size = 50,shuffle = True)"
   ]
  },
  {
   "cell_type": "code",
   "execution_count": 5,
   "metadata": {},
   "outputs": [
    {
     "data": {
      "image/png": "[encoded data removed]",
      "text/plain": [
       "<matplotlib.figure.Figure at 0x28f07de4b70>"
      ]
     },
     "metadata": {},
     "output_type": "display_data"
    }
   ],
   "source": [
    "images, labels = next(iter(trainloader))\n",
    "plt.imshow(images[0].numpy().squeeze(),cmap='Greys_r');"
   ]
  },
  {
   "cell_type": "code",
   "execution_count": 6,
   "metadata": {},
   "outputs": [],
   "source": [
    "# Build network\n",
    "\n",
    "class net(nn.Module):\n",
    "    def __init__(self,input_layers,hidden_layers,out_layers):\n",
    "        super().__init__()\n",
    "        self.fc1 = nn.Linear(input_layers,hidden_layers[0])\n",
    "        self.fc2 = nn.Linear(hidden_layers[0],hidden_layers[1])\n",
    "        self.fc3 = nn.Linear(hidden_layers[1],out_layers)\n",
    "    def forward(self,x):\n",
    "        x = self.fc1(x)\n",
    "        x = F.relu(x)\n",
    "        x = self.fc2(x)\n",
    "        x = F.relu(x)\n",
    "        x = self.fc3(x)\n",
    "        return x"
   ]
  },
  {
   "cell_type": "code",
   "execution_count": 7,
   "metadata": {},
   "outputs": [
    {
     "data": {
      "text/plain": [
       "net(\n",
       "  (fc1): Linear(in_features=784, out_features=128, bias=True)\n",
       "  (fc2): Linear(in_features=128, out_features=64, bias=True)\n",
       "  (fc3): Linear(in_features=64, out_features=10, bias=True)\n",
       ")"
      ]
     },
     "execution_count": 7,
     "metadata": {},
     "output_type": "execute_result"
    }
   ],
   "source": [
    "model=net(784,[128,64],10)\n",
    "model"
   ]
  },
  {
   "cell_type": "code",
   "execution_count": 8,
   "metadata": {},
   "outputs": [
    {
     "name": "stderr",
     "output_type": "stream",
     "text": [
      "C:\\ProgramData\\Anaconda3\\lib\\site-packages\\ipykernel_launcher.py:3: UserWarning: Implicit dimension choice for softmax has been deprecated. Change the call to include dim=X as an argument.\n",
      "  This is separate from the ipykernel package so we can avoid doing imports until\n"
     ]
    },
    {
     "data": {
      "image/png": "[encoded data removed]",
      "text/plain": [
       "<matplotlib.figure.Figure at 0x28f081e3b38>"
      ]
     },
     "metadata": {},
     "output_type": "display_data"
    }
   ],
   "source": [
    "img = images[0]\n",
    "pred=model.forward(img.view(1,784))\n",
    "ps=F.softmax(pred)\n",
    "\n",
    "plt.subplot(1,2,1)\n",
    "plt.imshow(img.numpy().squeeze(),cmap='Greys_r')\n",
    "\n",
    "plt.subplot(1,2,2)\n",
    "plt.barh(range(10),ps.data.numpy().squeeze())\n",
    "plt.xlim(0,1)\n",
    "plt.title('Class Probability')\n",
    "for x,y in enumerate(ps.data.numpy().squeeze()):\n",
    "    plt.text(y + 0.01, x-0.1, '{:.3f}'.format(y))"
   ]
  },
  {
   "cell_type": "code",
   "execution_count": 9,
   "metadata": {},
   "outputs": [
    {
     "name": "stdout",
     "output_type": "stream",
     "text": [
      "Epochs:1/4... Loss:2.2455\n",
      "Epochs:1/4... Loss:2.1065\n",
      "Epochs:1/4... Loss:1.9036\n",
      "Epochs:1/4... Loss:1.6601\n",
      "Epochs:1/4... Loss:1.4504\n",
      "Epochs:1/4... Loss:1.2871\n",
      "Epochs:1/4... Loss:1.1454\n",
      "Epochs:1/4... Loss:1.0260\n",
      "Epochs:1/4... Loss:0.9539\n",
      "Epochs:1/4... Loss:0.9063\n",
      "Epochs:1/4... Loss:0.8744\n",
      "Epochs:1/4... Loss:0.8353\n",
      "Epochs:1/4... Loss:0.7903\n",
      "Epochs:1/4... Loss:0.7864\n",
      "Epochs:1/4... Loss:0.7316\n",
      "Epochs:2/4... Loss:0.7118\n",
      "Epochs:2/4... Loss:0.7026\n",
      "Epochs:2/4... Loss:0.6964\n",
      "Epochs:2/4... Loss:0.6671\n",
      "Epochs:2/4... Loss:0.6809\n",
      "Epochs:2/4... Loss:0.6654\n",
      "Epochs:2/4... Loss:0.6459\n",
      "Epochs:2/4... Loss:0.6409\n",
      "Epochs:2/4... Loss:0.6380\n",
      "Epochs:2/4... Loss:0.6139\n",
      "Epochs:2/4... Loss:0.6155\n",
      "Epochs:2/4... Loss:0.5836\n",
      "Epochs:2/4... Loss:0.6144\n",
      "Epochs:2/4... Loss:0.6123\n",
      "Epochs:2/4... Loss:0.5932\n",
      "Epochs:3/4... Loss:0.5728\n",
      "Epochs:3/4... Loss:0.5967\n",
      "Epochs:3/4... Loss:0.5707\n",
      "Epochs:3/4... Loss:0.5873\n",
      "Epochs:3/4... Loss:0.5997\n",
      "Epochs:3/4... Loss:0.5348\n",
      "Epochs:3/4... Loss:0.5533\n",
      "Epochs:3/4... Loss:0.5499\n",
      "Epochs:3/4... Loss:0.5450\n",
      "Epochs:3/4... Loss:0.5579\n",
      "Epochs:3/4... Loss:0.5300\n",
      "Epochs:3/4... Loss:0.5228\n",
      "Epochs:3/4... Loss:0.5453\n",
      "Epochs:3/4... Loss:0.5143\n",
      "Epochs:3/4... Loss:0.5151\n",
      "Epochs:4/4... Loss:0.5401\n",
      "Epochs:4/4... Loss:0.4943\n",
      "Epochs:4/4... Loss:0.5327\n",
      "Epochs:4/4... Loss:0.5028\n",
      "Epochs:4/4... Loss:0.5047\n",
      "Epochs:4/4... Loss:0.5024\n",
      "Epochs:4/4... Loss:0.5257\n",
      "Epochs:4/4... Loss:0.5058\n",
      "Epochs:4/4... Loss:0.4836\n",
      "Epochs:4/4... Loss:0.4962\n",
      "Epochs:4/4... Loss:0.5263\n",
      "Epochs:4/4... Loss:0.4920\n",
      "Epochs:4/4... Loss:0.4921\n",
      "Epochs:4/4... Loss:0.4846\n",
      "Epochs:4/4... Loss:0.4931\n"
     ]
    }
   ],
   "source": [
    "# Train the model\n",
    "\n",
    "loss_f = nn.CrossEntropyLoss()\n",
    "optimizer = optim.SGD(model.parameters(),lr=0.01)\n",
    "\n",
    "epochs = 4\n",
    "print_every = 40\n",
    "steps= 0\n",
    "running_loss = 0\n",
    "\n",
    "for e in range(epochs):\n",
    "    running_loss = 0\n",
    "    for images,labels in iter(trainloader):\n",
    "        images.resize_(100,784)\n",
    "        preds = model.forward(images)\n",
    "        loss = loss_f(preds, labels)\n",
    "\n",
    "        optimizer.zero_grad()\n",
    "        loss.backward()\n",
    "        optimizer.step()\n",
    "        \n",
    "        steps += 1\n",
    "        running_loss += loss.item()\n",
    "        \n",
    "        if steps % print_every == 0:\n",
    "            print('Epochs:{}/{}...'.format(e+1,epochs),\n",
    "                  'Loss:{:.4f}'.format(running_loss/print_every))\n",
    "            \n",
    "            running_loss = 0\n"
   ]
  },
  {
   "cell_type": "code",
   "execution_count": 24,
   "metadata": {},
   "outputs": [
    {
     "name": "stderr",
     "output_type": "stream",
     "text": [
      "C:\\ProgramData\\Anaconda3\\lib\\site-packages\\ipykernel_launcher.py:8: UserWarning: Implicit dimension choice for softmax has been deprecated. Change the call to include dim=X as an argument.\n",
      "  \n"
     ]
    }
   ],
   "source": [
    "dataiter = iter(trainloader)\n",
    "images,labels= dataiter.next()\n",
    "\n",
    "img = images[9]\n",
    "img.resize_(1,784)\n",
    "\n",
    "pred = model.forward(img)\n",
    "ps = F.softmax(pred)"
   ]
  },
  {
   "cell_type": "code",
   "execution_count": 25,
   "metadata": {},
   "outputs": [
    {
     "data": {
      "image/png": "[encoded data removed]",
      "text/plain": [
       "<matplotlib.figure.Figure at 0x28f08372d68>"
      ]
     },
     "metadata": {},
     "output_type": "display_data"
    }
   ],
   "source": [
    "plt.subplot(1,2,1)\n",
    "plt.imshow(images[9].view(1,28,28).numpy().squeeze(),cmap='Greys_r')\n",
    "plt.title('{}'.format(labels[0]))\n",
    "\n",
    "plt.subplot(1,2,2)\n",
    "plt.barh(range(10),ps.data.numpy().squeeze())\n",
    "plt.yticks(range(10))\n",
    "plt.ylim(-0.5,10)\n",
    "plt.xlim(0,1)\n",
    "plt.title('Class Probability')\n",
    "for x,y in enumerate(ps.data.numpy().squeeze()):\n",
    "    plt.text(y + 0.01, x-0.1, '{:.3f}'.format(y))"
   ]
  },
  {
   "cell_type": "code",
   "execution_count": null,
   "metadata": {},
   "outputs": [],
   "source": []
  },
  {
   "cell_type": "code",
   "execution_count": null,
   "metadata": {},
   "outputs": [],
   "source": []
  }
 ],
 "metadata": {
  "kernelspec": {
   "display_name": "Python 3",
   "language": "python",
   "name": "python3"
  },
  "language_info": {
   "codemirror_mode": {
    "name": "ipython",
    "version": 3
   },
   "file_extension": ".py",
   "mimetype": "text/x-python",
   "name": "python",
   "nbconvert_exporter": "python",
   "pygments_lexer": "ipython3",
   "version": "3.6.6"
  }
 },
 "nbformat": 4,
 "nbformat_minor": 2
}
